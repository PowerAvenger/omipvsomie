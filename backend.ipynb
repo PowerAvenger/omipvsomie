{
 "cells": [
  {
   "cell_type": "code",
   "execution_count": 1,
   "metadata": {},
   "outputs": [
    {
     "name": "stderr",
     "output_type": "stream",
     "text": [
      "2024-10-02 11:17:04.600 WARNING streamlit.runtime.caching.cache_data_api: No runtime found, using MemoryCacheStorageManager\n"
     ]
    }
   ],
   "source": [
    "\n",
    "import pandas as pd\n",
    "#from datetime import datetime\n",
    "#import datetime\n",
    "import plotly.express as px\n",
    "import plotly.graph_objects as go\n",
    "import numpy as np\n",
    "\n",
    "\n",
    "from omie import obtener_omie_mensual,obtener_omie_diario\n",
    "from meff import obtener_FTB\n",
    "\n",
    "\n"
   ]
  },
  {
   "cell_type": "markdown",
   "metadata": {},
   "source": [
    "## OBTENEMOS DATOS DE OMIE"
   ]
  },
  {
   "cell_type": "code",
   "execution_count": 152,
   "metadata": {},
   "outputs": [],
   "source": [
    "def obtener_omie():\n",
    "    df_omie_mensual=obtener_omie_mensual()\n",
    "    df_omie_diario=obtener_omie_diario()\n",
    "    return df_omie_mensual,df_omie_diario"
   ]
  },
  {
   "cell_type": "code",
   "execution_count": 153,
   "metadata": {},
   "outputs": [
    {
     "name": "stdout",
     "output_type": "stream",
     "text": [
      "https://api.esios.ree.es/indicators/600?geo_ids[]=3&start_date=2024-01-01T00:00:00&end_date=2024-12-31T23:59:59&time_trunc=month&time_agg=average\n",
      "https://api.esios.ree.es/indicators/600?geo_ids[]=3&start_date=2024-01-01T00:00:00&end_date=2024-12-31T23:59:59&time_trunc=day&time_agg=average\n"
     ]
    }
   ],
   "source": [
    "df_omie_mensual,df_omie_diario=obtener_omie()"
   ]
  },
  {
   "cell_type": "markdown",
   "metadata": {},
   "source": [
    "## dataframe de partida para Periodo = Mensual"
   ]
  },
  {
   "cell_type": "code",
   "execution_count": 237,
   "metadata": {},
   "outputs": [],
   "source": [
    "def obtener_meff_mensual():\n",
    "    \n",
    "        df_FTB = obtener_FTB(web_meff=False)\n",
    "\n",
    "        #filtramos por Periodo 'Mensual'\n",
    "        df_FTB_mensual=df_FTB[df_FTB['Cod.'].str.startswith('FTBCM')]\n",
    "        #hacemos copy del df\n",
    "        df_FTB_mensual=df_FTB_mensual.copy()\n",
    "        #añadimos columna con el mes de la fecha de negociación\n",
    "        df_FTB_mensual['Mes_Fecha']=df_FTB_mensual['Fecha'].dt.month\n",
    "        #añadimos columna con el mes de la fecha de entrega\n",
    "        meses = {'ene': 1, 'feb': 2, 'mar': 3, 'abr': 4, 'may': 5, 'jun': 6, \n",
    "                'jul': 7, 'ago': 8, 'sep': 9, 'oct': 10, 'nov': 11, 'dic': 12}\n",
    "        df_FTB_mensual['Mes_Entrega']=df_FTB_mensual['Entrega'].str[:3].map(meses)\n",
    "        #modificamos el mes de entrega para poder restar\n",
    "        df_FTB_mensual['Mes_Entrega'] = np.where((df_FTB_mensual['Mes_Fecha'] == 12) & (df_FTB_mensual['Mes_Entrega'] <= 12),\n",
    "                                df_FTB_mensual['Mes_Entrega'] + 12,\n",
    "                                df_FTB_mensual['Mes_Entrega'])\n",
    "\n",
    "        # Filtrar las filas donde 'Entrega' contiene '24'\n",
    "        l_entregas_24 = df_FTB_mensual[df_FTB_mensual['Entrega'].str.contains('24', na=False)]['Entrega'].unique().tolist()\n",
    "        l_meses_unicos=df_FTB_mensual['Entrega'].unique().tolist()\n",
    "        \n",
    "        return df_FTB_mensual, meses, l_entregas_24,l_meses_unicos\n"
   ]
  },
  {
   "cell_type": "code",
   "execution_count": 240,
   "metadata": {},
   "outputs": [],
   "source": [
    "def obtener_datos_mes_entrega(df_FTB_mensual,mes_entrega,entrega):\n",
    "    ## ESTE DATAFRAME LO USAMOS PARA OBTENER UNA GRÁFICA DE OMIP PARA EL MES DE ENTREGA (MINIPORRA) DESDE 6 MESES ATRÁS\n",
    "\n",
    "    #filtramos por el mes de entrega (miniporra) y por mes fecha (para evitar futuros dentro del mismo mes)\n",
    "    df_FTB_mensual_entrega=df_FTB_mensual[(df_FTB_mensual['Mes_Entrega']==mes_entrega) & (df_FTB_mensual['Mes_Fecha']!=df_FTB_mensual['Mes_Entrega'])]\n",
    "    \n",
    "    #se usa simplemente para determinar la escala y del gráfico de area para los 3 ultimos valores\n",
    "    max_precio_entrega=df_FTB_mensual_entrega['Precio'].max()\n",
    "\n",
    "    #dataframe con los 3 valores últimos para resaltarlos. USADOS PARA EL AREA DE LOS TRES ULTIMOS VALORES\n",
    "    df_FTB_mensual_entrega_last3=df_FTB_mensual_entrega.tail(3)\n",
    "    #media de omip\n",
    "    omip_entrega=round(df_FTB_mensual_entrega_last3['Precio'].mean(),2)\n",
    "\n",
    "    #valor dinamico de omie para el mes de la miniporra (mes de entrega)\n",
    "    df_omie_entrega=df_omie_mensual[df_omie_mensual['Entrega']==entrega]['omie']\n",
    "    omie_entrega=df_omie_entrega.iloc[0]\n",
    "\n",
    "\n",
    "    graf_futuros=px.line(df_FTB_mensual_entrega, x='Fecha',y='Precio',\n",
    "                     labels={'Precio':'€/MWh'},\n",
    "                     \n",
    "                    )\n",
    "\n",
    "    graf_futuros.update_traces(\n",
    "        line=dict(color='sienna'),\n",
    "        name='omip',\n",
    "        showlegend=True\n",
    "        \n",
    "    )\n",
    "\n",
    "    graf_futuros.update_layout(\n",
    "        title=dict(\n",
    "            text=f'Evolución de OMIP para el mes de {entrega}.',\n",
    "            x=.5,\n",
    "            xanchor='center',\n",
    "            ),\n",
    "        #legend_title_text='omip'\n",
    "        \n",
    "            \n",
    "        \n",
    "    )\n",
    "    graf_futuros.add_trace(\n",
    "        go.Scatter(\n",
    "            x=df_FTB_mensual_entrega_last3['Fecha'],\n",
    "            y=[max_precio_entrega+5]*len(df_FTB_mensual_entrega_last3), #['Precio'],\n",
    "            fill='tozeroy',\n",
    "            mode='none',\n",
    "            fillcolor='rgba(255, 100, 100, 0.5)',\n",
    "            name='last 3'\n",
    "            #showlegend=False\n",
    "        )\n",
    "    )\n",
    "    ##AÑADIMOS VALOR MEDIO DE OMIE PARA EL MES SELECCIONADO\n",
    "    graf_futuros.add_trace(\n",
    "        go.Scatter(\n",
    "            x=df_FTB_mensual_entrega['Fecha'],\n",
    "            y=[omie_entrega]*len(df_FTB_mensual_entrega), #['Precio'],\n",
    "            #fill='tozeroy',\n",
    "            mode='lines',\n",
    "            #fillcolor='rgba(255, 100, 100, 0.5)',\n",
    "            line=dict(dash='dot', color='green'),\n",
    "            name='omie'\n",
    "        )\n",
    "    )\n",
    "        \n",
    "    return graf_futuros, omie_entrega, omip_entrega, df_FTB_mensual_entrega"
   ]
  },
  {
   "cell_type": "code",
   "execution_count": 172,
   "metadata": {},
   "outputs": [],
   "source": [
    "def omie_diario(entrega,omip_entrega):\n",
    "    df_omie_diario_entrega=df_omie_diario[df_omie_diario['Entrega']==entrega]\n",
    "    #omie_entrega=round(df_omie_diario_entrega['omie'].mean(),2)\n",
    "    fecha_ini_entrega=df_omie_diario_entrega['datetime'].min()\n",
    "    #código para obtener el último dia del mes a partir de la fecha primer dia\n",
    "    fecha_fin_entrega=(fecha_ini_entrega+pd.DateOffset(months=1) - pd.DateOffset(days=1)).date()\n",
    "    #creamos un df con los dias del mes de entrega\n",
    "    df_rango_dias_entrega = pd.DataFrame({'datetime': pd.date_range(start=fecha_ini_entrega, end=fecha_fin_entrega)})\n",
    "    df_omie_diario_entrega_rango=df_rango_dias_entrega.merge(df_omie_diario_entrega, on='datetime', how='left')\n",
    "    df_omie_diario_entrega_rango['omip']=omip_entrega\n",
    "\n",
    "    \n",
    "\n",
    "    return df_omie_diario_entrega_rango"
   ]
  },
  {
   "cell_type": "code",
   "execution_count": 185,
   "metadata": {},
   "outputs": [],
   "source": [
    "def obtener_datos_mes_anterior(df_FTB_mensual,df_FTB_mensual_entrega):\n",
    "    #filtramos aquellos meses que sean justo uno menos que el mes de entrega\n",
    "    #USAMOS EL DATAFRAME PARA OBTENER LOS ULTIMOS 3 VALORES DE CADA MES DE ENTREGA\n",
    "    df_FTB_mensual_mes_anterior=df_FTB_mensual[df_FTB_mensual['Mes_Fecha']==df_FTB_mensual['Mes_Entrega']-1]\n",
    "    #de cada mes, nos quedamos sólo con los valores de las últimas tres sesiones\n",
    "    df_FTB_mensual_mes_anterior_last3=df_FTB_mensual_mes_anterior.groupby('Entrega').tail(3)\n",
    "    #obtenemos la media de esos tres dias, por mes de entrega\n",
    "    df_FTB_mensual_mes_anterior_last3=df_FTB_mensual_mes_anterior_last3.groupby('Entrega', as_index=False)['Precio'].mean().round(2)\n",
    "    ## ORDENAMOS CRONOLÓGICAMENTE POR MES DE ENTREGA TIPO ene-24, feb-24 ...\n",
    "    #lista de meses\n",
    "    months_order = ['ene', 'feb', 'mar', 'abr', 'may', 'jun', 'jul', 'ago', 'sep', 'oct', 'nov', 'dic']\n",
    "    #convertimos 'Entrega' en categoría para poder ordenar\n",
    "    df_FTB_mensual_mes_anterior_last3['Entrega'] = pd.Categorical(df_FTB_mensual_mes_anterior_last3['Entrega'], categories=[f'{m}-{y}' for y in ['23', '24', '25'] for m in months_order], ordered=True)\n",
    "    #esta es la lista ordenada con los meses de entrega y la media de MEFF de los últimos tres dias\n",
    "    df_FTB_mensual_mes_anterior_last3_ordered = df_FTB_mensual_mes_anterior_last3.sort_values('Entrega').reset_index(drop=True)\n",
    "\n",
    "    df_omie_omip=pd.merge(df_FTB_mensual_mes_anterior_last3_ordered,df_omie_mensual, on='Entrega',how='left')\n",
    "    df_omie_omip=df_omie_omip.rename(columns={'Precio':'omip'})\n",
    "    df_omie_omip['dif']=df_omie_omip['omie']-df_omie_omip['omip']\n",
    "    df_omie_omip['dif%']=df_omie_omip['dif']/df_omie_omip['omie']\n",
    "    df_omie_omip['dif%_abs']=df_omie_omip['dif%'].abs()\n",
    "\n",
    "    graf_entrega=px.bar(df_omie_omip,x='Entrega',y=['omip','omie','dif'],\n",
    "                    title='OMIP vs OMIE (€/MWh). OMIP a partir de los tres últimos registros del mes anterior',\n",
    "                    labels={'value':'€/MWh', 'Entrega': 'Mes'},\n",
    "                    text_auto=True,\n",
    "                    barmode='group',\n",
    "                    opacity=.75,\n",
    "                    \n",
    "                    color_discrete_map={'omip':'violet','omie':'orange'}\n",
    "                    \n",
    "                    )\n",
    "\n",
    "    graf_entrega.update_layout(\n",
    "        bargap=.3,\n",
    "        title={'x':.5,'xanchor':'center'},\n",
    "        legend={'title':''}\n",
    "    )\n",
    "\n",
    "    graf_entrega.update_traces(\n",
    "        width=.2,\n",
    "        textangle=0,\n",
    "        #textfont=dict(bold=True)\n",
    "    )\n",
    "\n",
    "\n",
    "    df_omie_omip_ordenado=df_omie_omip.sort_values(by= 'dif%_abs',ascending=False)\n",
    "    df_omip_desvios=df_omie_omip_ordenado.iloc[2:]\n",
    "    desvio_omip=df_omip_desvios['dif%_abs'].sum()\n",
    "    df_FTB_mensual_entrega_last3=df_FTB_mensual_entrega.groupby('Entrega').tail(3)\n",
    "    df_FTB_mensual_entrega_last3\n",
    "    media_last3=df_FTB_mensual_entrega_last3['Precio'].mean()\n",
    "    \n",
    "    media_last3\n",
    "    \n",
    "    return df_omie_omip"
   ]
  },
  {
   "cell_type": "code",
   "execution_count": null,
   "metadata": {},
   "outputs": [],
   "source": [
    "def grafico_omie_omip(df_omie_diario_entrega_rango,entrega):\n",
    "\n",
    "    graf_omie_omip=px.line(df_omie_diario_entrega_rango, x='datetime',y='omie',\n",
    "                        labels={'datetime':'fecha'},\n",
    "                        )\n",
    "\n",
    "    graf_omie_omip.update_traces(\n",
    "        line=dict(color='green'),\n",
    "        name='omie',\n",
    "        showlegend=True,\n",
    "        mode='lines+markers',\n",
    "        marker=dict(symbol='square'),\n",
    "        \n",
    "    )\n",
    "\n",
    "    graf_omie_omip.update_layout(\n",
    "        title=dict(\n",
    "            text=f'Evolución de OMIE para el mes de {entrega}. ',\n",
    "            x=.5,\n",
    "            xanchor='center',\n",
    "            ),\n",
    "        yaxis_title='€/MWh'\n",
    "        )\n",
    "        #legend_title_text='omip'\n",
    "\n",
    "\n",
    "    graf_omie_omip.add_trace(\n",
    "        go.Scatter(\n",
    "            x=df_omie_diario_entrega_rango['datetime'],\n",
    "            y=df_omie_diario_entrega_rango['omip'],\n",
    "            #y=[omie_mensual_entrega]*len(df_FTB_mensual_entrega), #['Precio'],\n",
    "            #fill='tozeroy',\n",
    "            mode='lines',\n",
    "            #fillcolor='rgba(255, 100, 100, 0.5)',\n",
    "            line=dict(dash='dot', color='sienna'),\n",
    "            name='omip'\n",
    "        )\n",
    "    )\n",
    "\n",
    "    graf_omie_omip.update_yaxes(\n",
    "        range=[0,df_omie_diario_entrega_rango['omie'].max()+10]\n",
    "    )\n",
    "\n",
    "    return graf_omie_omip"
   ]
  },
  {
   "cell_type": "markdown",
   "metadata": {},
   "source": [
    "## ACCEDEMOS A LA TABLA DE ACUMULADO PORCENTAJE DE LA EXCEL"
   ]
  },
  {
   "cell_type": "code",
   "execution_count": 198,
   "metadata": {},
   "outputs": [],
   "source": [
    "def obtener_clasificacion_porc():\n",
    "    ruta_superporra= r'C:\\Users\\jovid\\Documents\\015 JOSE\\070 ENERGIA\\00001 PUBLICACIONES LINKEDIN\\002 Miniporras\\SUPERPORRA2024.xlsm'\n",
    "\n",
    "    #cogemos la tabla acum_porc y las columnas A a M. CUIDADO CON ESTO A VER SI NOS QUEDAMOS CORTOS.\n",
    "    df_porra_desvios_porc=pd.read_excel(ruta_superporra,sheet_name='acum_porc',usecols='A:M')\n",
    "\n",
    "    #pasamos a minusculas los meses\n",
    "    #\n",
    "    #contamos los meses que llevamos jugando\n",
    "    meses_porra=sum('2024' in col for col in df_porra_desvios_porc.columns)\n",
    "    #eliminamos aquellos participantes que llevan meses porra menos 2\n",
    "    df_porra_desvios_porc=df_porra_desvios_porc[df_porra_desvios_porc['contar']>=meses_porra-2]\n",
    "    #eliminamos espacios en los nombres de las columnas (por si acaso)\n",
    "    df_porra_desvios_porc.columns = df_porra_desvios_porc.columns.str.strip()\n",
    "    #dejamos solo nombre y meses. podríamos hacerlo eliminando las dos últimas\n",
    "    columns_to_filter = [col for col in df_porra_desvios_porc.columns if '2024' in col]\n",
    "    df_porra_desvios_porc=df_porra_desvios_porc.loc[:,['Nombre']+columns_to_filter]\n",
    "    #convertimos los valores de los desvíos% de todos los meses en numericos\n",
    "    df_porra_desvios_porc[columns_to_filter] = df_porra_desvios_porc[columns_to_filter].apply(pd.to_numeric, errors='coerce')\n",
    "\n",
    "    def eliminar_valores_mas_altos(row):\n",
    "        # Filtrar solo los valores válidos (no NaN)\n",
    "        valores_validos = row.dropna()\n",
    "        num_validos = len(valores_validos)\n",
    "        \n",
    "        # Definir cuántos valores eliminar\n",
    "        if num_validos > meses_porra-2:\n",
    "            # Calcular cuántos valores eliminar para dejar n-2\n",
    "            eliminar_count = num_validos - (meses_porra-2)\n",
    "            \n",
    "            # Obtener los valores más altos a eliminar\n",
    "            top_n = valores_validos.nlargest(eliminar_count)\n",
    "            \n",
    "            # Reemplazar esos valores con NaN\n",
    "            return row.apply(lambda x: np.nan if x in top_n.values else x)\n",
    "        else:\n",
    "            # Si hay 7 o menos válidos, no eliminamos nada\n",
    "            return row\n",
    "\n",
    "    # Paso 3: Aplicar la función a las columnas filtradas\n",
    "    df_porra_desvios_porc[columns_to_filter] = df_porra_desvios_porc[columns_to_filter].apply(eliminar_valores_mas_altos, axis=1)\n",
    "\n",
    "    #añadimos columna con la suma y la media de los mejores resultados\n",
    "    df_porra_desvios_porc['Suma'] = df_porra_desvios_porc.iloc[:, 1:].sum(axis=1, skipna=True)\n",
    "    df_porra_desvios_porc['Media'] = df_porra_desvios_porc.iloc[:, 1:-1].mean(axis=1, skipna=True)\n",
    "    df_porra_desvios_porc[['Suma','Media']] = df_porra_desvios_porc[['Suma','Media']].apply(pd.to_numeric, errors='coerce')\n",
    "    lista_starpowers=df_porra_desvios_porc['Nombre'].unique().tolist()\n",
    "\n",
    "    return df_porra_desvios_porc, lista_starpowers\n"
   ]
  },
  {
   "cell_type": "code",
   "execution_count": 206,
   "metadata": {},
   "outputs": [
    {
     "data": {
      "application/vnd.plotly.v1+json": {
       "config": {
        "plotlyServerURL": "https://plot.ly"
       },
       "data": [
        {
         "alignmentgroup": "True",
         "hovertemplate": "Desvío medio=%{marker.color}<br>Nombre=%{y}<extra></extra>",
         "legendgroup": "",
         "marker": {
          "color": [
           0.09141717685044008,
           0.15446995206007258,
           0.15858132004701048,
           0.1704826024807217,
           0.1722104299178063,
           0.1897731137365115,
           0.2163673326274727,
           0.2176264658602761,
           0.22357757598773503,
           0.23091692823166904,
           0.23196688270779167,
           0.23773946347058603,
           0.2480711041186103,
           0.2626757701204993,
           0.2755914996992452,
           0.2756216448704912,
           0.2915294307615727,
           0.2996627506078882,
           0.31410142015220843,
           0.3228020211846042,
           0.3291810939811656,
           0.3364936387510471,
           0.3842670480936671
          ],
          "coloraxis": "coloraxis",
          "pattern": {
           "shape": ""
          }
         },
         "name": "",
         "offsetgroup": "",
         "orientation": "h",
         "showlegend": false,
         "textposition": "inside",
         "texttemplate": "%{x:.3f}",
         "type": "bar",
         "width": 0.7,
         "x": [
          0.09141717685044008,
          0.15446995206007258,
          0.15858132004701048,
          0.1704826024807217,
          0.1722104299178063,
          0.1897731137365115,
          0.2163673326274727,
          0.2176264658602761,
          0.22357757598773503,
          0.23091692823166904,
          0.23196688270779167,
          0.23773946347058603,
          0.2480711041186103,
          0.2626757701204993,
          0.2755914996992452,
          0.2756216448704912,
          0.2915294307615727,
          0.2996627506078882,
          0.31410142015220843,
          0.3228020211846042,
          0.3291810939811656,
          0.3364936387510471,
          0.3842670480936671
         ],
         "xaxis": "x",
         "y": [
          "Javier Revuelta Alonso",
          "Jose F Vidal",
          "Roberto Cavero García",
          "Javier Pérez Salazar",
          "Gladys Rocha Blanco",
          "Julián Mateo Muñoz",
          "Roque Alonso Alonso",
          "Jaime Larrañaga Juez",
          "Javier Colón Cortegoso",
          "Jorge Antonio González Sánchez",
          "Inés Monroy",
          "Carles Estruch Puig",
          "Fernando Sánchez-Rey Maeso",
          "Alfonso Lezcano",
          "Alfonso Zárate Conde",
          "Laura Gómez López",
          "Elena Muñoz Vioque",
          "Jose Manuel Otero López",
          "Aitor Folch",
          "Juan Pedro Conejo Sanchez",
          "Javier Espelta",
          "Oscar Mulas Crespo",
          "Luis Angel Garzon Velasco"
         ],
         "yaxis": "y"
        }
       ],
       "layout": {
        "bargap": 0.5,
        "barmode": "relative",
        "coloraxis": {
         "colorbar": {
          "title": {
           "text": "Desvío medio"
          }
         },
         "colorscale": [
          [
           0,
           "rgb(255,250,220)"
          ],
          [
           0.2,
           "rgb(230,200,0)"
          ],
          [
           0.4,
           "rgb(160,90,0)"
          ],
          [
           0.6,
           "rgb(120,0,100)"
          ],
          [
           0.8,
           "rgb(30,0,100)"
          ],
          [
           1,
           "rgb(0,0,0)"
          ]
         ]
        },
        "height": 800,
        "legend": {
         "tracegroupgap": 0
        },
        "margin": {
         "l": 250,
         "t": 60
        },
        "showlegend": false,
        "template": {
         "data": {
          "candlestick": [
           {
            "decreasing": {
             "line": {
              "color": "#000033"
             }
            },
            "increasing": {
             "line": {
              "color": "#000032"
             }
            },
            "type": "candlestick"
           }
          ],
          "contour": [
           {
            "colorscale": [
             [
              0,
              "#000011"
             ],
             [
              0.1111111111111111,
              "#000012"
             ],
             [
              0.2222222222222222,
              "#000013"
             ],
             [
              0.3333333333333333,
              "#000014"
             ],
             [
              0.4444444444444444,
              "#000015"
             ],
             [
              0.5555555555555556,
              "#000016"
             ],
             [
              0.6666666666666666,
              "#000017"
             ],
             [
              0.7777777777777778,
              "#000018"
             ],
             [
              0.8888888888888888,
              "#000019"
             ],
             [
              1,
              "#000020"
             ]
            ],
            "type": "contour"
           }
          ],
          "contourcarpet": [
           {
            "colorscale": [
             [
              0,
              "#000011"
             ],
             [
              0.1111111111111111,
              "#000012"
             ],
             [
              0.2222222222222222,
              "#000013"
             ],
             [
              0.3333333333333333,
              "#000014"
             ],
             [
              0.4444444444444444,
              "#000015"
             ],
             [
              0.5555555555555556,
              "#000016"
             ],
             [
              0.6666666666666666,
              "#000017"
             ],
             [
              0.7777777777777778,
              "#000018"
             ],
             [
              0.8888888888888888,
              "#000019"
             ],
             [
              1,
              "#000020"
             ]
            ],
            "type": "contourcarpet"
           }
          ],
          "heatmap": [
           {
            "colorscale": [
             [
              0,
              "#000011"
             ],
             [
              0.1111111111111111,
              "#000012"
             ],
             [
              0.2222222222222222,
              "#000013"
             ],
             [
              0.3333333333333333,
              "#000014"
             ],
             [
              0.4444444444444444,
              "#000015"
             ],
             [
              0.5555555555555556,
              "#000016"
             ],
             [
              0.6666666666666666,
              "#000017"
             ],
             [
              0.7777777777777778,
              "#000018"
             ],
             [
              0.8888888888888888,
              "#000019"
             ],
             [
              1,
              "#000020"
             ]
            ],
            "type": "heatmap"
           }
          ],
          "histogram2d": [
           {
            "colorscale": [
             [
              0,
              "#000011"
             ],
             [
              0.1111111111111111,
              "#000012"
             ],
             [
              0.2222222222222222,
              "#000013"
             ],
             [
              0.3333333333333333,
              "#000014"
             ],
             [
              0.4444444444444444,
              "#000015"
             ],
             [
              0.5555555555555556,
              "#000016"
             ],
             [
              0.6666666666666666,
              "#000017"
             ],
             [
              0.7777777777777778,
              "#000018"
             ],
             [
              0.8888888888888888,
              "#000019"
             ],
             [
              1,
              "#000020"
             ]
            ],
            "type": "histogram2d"
           }
          ],
          "icicle": [
           {
            "textfont": {
             "color": "white"
            },
            "type": "icicle"
           }
          ],
          "sankey": [
           {
            "textfont": {
             "color": "#000036"
            },
            "type": "sankey"
           }
          ],
          "scatter": [
           {
            "marker": {
             "line": {
              "width": 0
             }
            },
            "type": "scatter"
           }
          ],
          "table": [
           {
            "cells": {
             "fill": {
              "color": "#000038"
             },
             "font": {
              "color": "#000037"
             },
             "line": {
              "color": "#000039"
             }
            },
            "header": {
             "fill": {
              "color": "#000040"
             },
             "font": {
              "color": "#000036"
             },
             "line": {
              "color": "#000039"
             }
            },
            "type": "table"
           }
          ],
          "waterfall": [
           {
            "connector": {
             "line": {
              "color": "#000036",
              "width": 2
             }
            },
            "decreasing": {
             "marker": {
              "color": "#000033"
             }
            },
            "increasing": {
             "marker": {
              "color": "#000032"
             }
            },
            "totals": {
             "marker": {
              "color": "#000034"
             }
            },
            "type": "waterfall"
           }
          ]
         },
         "layout": {
          "coloraxis": {
           "colorscale": [
            [
             0,
             "#000011"
            ],
            [
             0.1111111111111111,
             "#000012"
            ],
            [
             0.2222222222222222,
             "#000013"
            ],
            [
             0.3333333333333333,
             "#000014"
            ],
            [
             0.4444444444444444,
             "#000015"
            ],
            [
             0.5555555555555556,
             "#000016"
            ],
            [
             0.6666666666666666,
             "#000017"
            ],
            [
             0.7777777777777778,
             "#000018"
            ],
            [
             0.8888888888888888,
             "#000019"
            ],
            [
             1,
             "#000020"
            ]
           ]
          },
          "colorscale": {
           "diverging": [
            [
             0,
             "#000021"
            ],
            [
             0.1,
             "#000022"
            ],
            [
             0.2,
             "#000023"
            ],
            [
             0.3,
             "#000024"
            ],
            [
             0.4,
             "#000025"
            ],
            [
             0.5,
             "#000026"
            ],
            [
             0.6,
             "#000027"
            ],
            [
             0.7,
             "#000028"
            ],
            [
             0.8,
             "#000029"
            ],
            [
             0.9,
             "#000030"
            ],
            [
             1,
             "#000031"
            ]
           ],
           "sequential": [
            [
             0,
             "#000011"
            ],
            [
             0.1111111111111111,
             "#000012"
            ],
            [
             0.2222222222222222,
             "#000013"
            ],
            [
             0.3333333333333333,
             "#000014"
            ],
            [
             0.4444444444444444,
             "#000015"
            ],
            [
             0.5555555555555556,
             "#000016"
            ],
            [
             0.6666666666666666,
             "#000017"
            ],
            [
             0.7777777777777778,
             "#000018"
            ],
            [
             0.8888888888888888,
             "#000019"
            ],
            [
             1,
             "#000020"
            ]
           ],
           "sequentialminus": [
            [
             0,
             "#000011"
            ],
            [
             0.1111111111111111,
             "#000012"
            ],
            [
             0.2222222222222222,
             "#000013"
            ],
            [
             0.3333333333333333,
             "#000014"
            ],
            [
             0.4444444444444444,
             "#000015"
            ],
            [
             0.5555555555555556,
             "#000016"
            ],
            [
             0.6666666666666666,
             "#000017"
            ],
            [
             0.7777777777777778,
             "#000018"
            ],
            [
             0.8888888888888888,
             "#000019"
            ],
            [
             1,
             "#000020"
            ]
           ]
          },
          "colorway": [
           "#000001",
           "#000002",
           "#000003",
           "#000004",
           "#000005",
           "#000006",
           "#000007",
           "#000008",
           "#000009",
           "#000010"
          ]
         }
        },
        "xaxis": {
         "anchor": "y",
         "domain": [
          0,
          1
         ],
         "title": {
          "text": "Desvío medio"
         }
        },
        "yaxis": {
         "anchor": "x",
         "autorange": "reversed",
         "domain": [
          0,
          1
         ],
         "title": {
          "text": ""
         }
        }
       }
      }
     },
     "metadata": {},
     "output_type": "display_data"
    }
   ],
   "source": [
    "def grafico_clasificacion(df_porra_desvios_porc):\n",
    "    graf_clasificacion=px.bar(df_porra_desvios_porc, x='Media',y='Nombre',\n",
    "                            orientation='h',\n",
    "                            height=800,\n",
    "                            color='Media',\n",
    "                            #color_continuous_scale='Viridis',\n",
    "                            color_continuous_scale=px.colors.sequential.Electric_r,\n",
    "                            text_auto=False,\n",
    "                            labels={'Media':'Desvío medio'}\n",
    "                            \n",
    "                            )\n",
    "\n",
    "    graf_clasificacion.update_layout(\n",
    "        showlegend=False,\n",
    "        margin=dict(l=250),\n",
    "        bargap=.5\n",
    "        \n",
    "    )\n",
    "\n",
    "    graf_clasificacion.update_yaxes(\n",
    "        autorange=\"reversed\",\n",
    "        title='')\n",
    "\n",
    "    graf_clasificacion.update_traces(\n",
    "        width=.7,\n",
    "        texttemplate='%{x:.3f}', textposition='inside'\n",
    "    )\n",
    "\n",
    "    return graf_clasificacion"
   ]
  },
  {
   "cell_type": "code",
   "execution_count": null,
   "metadata": {},
   "outputs": [],
   "source": [
    "def obtener_comparativa(nombre_seleccionado, df_porra_desvios_porc, df_omie_omip,meses_porra,entrega):\n",
    "    df_nombre_seleccionado=df_porra_desvios_porc[df_porra_desvios_porc['Nombre']==nombre_seleccionado]\n",
    "    #estos son los valores de los desvíos de OMIP frente a OMIE, por meses\n",
    "    li_desvios_porc_omip = df_omie_omip['dif%_abs'].dropna().to_list()\n",
    "    li_desvios_porc_omip=li_desvios_porc_omip[:meses_porra]\n",
    "    #esta fila se añade al nombre seleccionado\n",
    "    li_desvios_porc_omip = ['omip'] + li_desvios_porc_omip +['']+['']\n",
    "\n",
    "    df_desvios_porc_omip = pd.DataFrame([li_desvios_porc_omip], columns=df_nombre_seleccionado.columns)\n",
    "    df_comp_nombre_omip=pd.concat([df_nombre_seleccionado,df_desvios_porc_omip], ignore_index=True)\n",
    "    #localizamos las columnas del nombre con NaN\n",
    "    columns_with_nan = df_comp_nombre_omip.iloc[0].isna()\n",
    "    #Convertimos a NaN los valores de las columnas NaN del nombre\n",
    "    df_comp_nombre_omip.loc[1, columns_with_nan] = np.nan\n",
    "    df_comp_nombre_omip.loc[df_comp_nombre_omip['Nombre']=='omip','Suma'] = df_comp_nombre_omip.iloc[1, 1:meses_porra+1].sum(skipna=True)\n",
    "    df_comp_nombre_omip.loc[df_comp_nombre_omip['Nombre']=='omip','Media'] = df_comp_nombre_omip.iloc[1, 1:meses_porra+1].mean(skipna=True)\n",
    "    df_comp_nombre_omip[['Suma','Media']] = df_comp_nombre_omip[['Suma','Media']].apply(pd.to_numeric, errors='coerce')\n",
    "\n",
    "    def calcular_suma_media(df, mes_inicio, mes_fin):\n",
    "        # Seleccionar las columnas entre el mes de inicio y el mes de fin\n",
    "        columnas_meses = df.columns.get_loc(mes_inicio),df.columns.get_loc(mes_fin) + 1\n",
    "        print (columnas_meses)\n",
    "        df.loc[:,'Suma'] = df.iloc[:,columnas_meses[0]:columnas_meses[1]].sum(axis=1,skipna=True) \n",
    "        df.loc[:, 'Media'] = df.iloc[:, columnas_meses[0]:columnas_meses[1]].mean(axis=1, skipna=True)   # Crear nuevas columnas con la suma y la media ignorando los NaN\n",
    "        columnas_a_conservar = ['Nombre']+list(df.columns[columnas_meses[0]:columnas_meses[1]]) + ['Suma', 'Media']\n",
    "        df = df[columnas_a_conservar]\n",
    "        return df, columnas_meses\n",
    "\n",
    "    mes_inicio = 'Ene 2024'\n",
    "    #entrega = 'Ago 2024'  \n",
    "    mes_fin = entrega.capitalize()\n",
    "\n",
    "    \n",
    "    df_comp_nombre_omip_din,columnas_meses = calcular_suma_media(df_comp_nombre_omip, mes_inicio, mes_fin)\n",
    "\n",
    "    df_comp_nombre_omip_melted=df_comp_nombre_omip_din.melt(id_vars=['Nombre'],\n",
    "                                          var_name='Mes',\n",
    "                                          value_name='Valor')\n",
    "    df_comp_nombre_omip_melted['Valor']=df_comp_nombre_omip_melted['Valor']*100\n",
    "    df_comp_nombre_omip_melted['Valor']=df_comp_nombre_omip_melted['Valor'].round(1)\n",
    "\n",
    "    return df_comp_nombre_omip_melted\n"
   ]
  },
  {
   "cell_type": "code",
   "execution_count": null,
   "metadata": {},
   "outputs": [],
   "source": [
    "def grafico_comparativo(df_comp_nombre_omip_melted, nombre_seleccionado):\n",
    "\n",
    "    graf_comp=px.bar(df_comp_nombre_omip_melted, x='Mes', y='Valor',\n",
    "        color='Nombre',\n",
    "        barmode='group',\n",
    "        color_discrete_map={'omip':'violet',f'{nombre_seleccionado}':'orange'},\n",
    "        text_auto=True,\n",
    "        labels={'Valor': 'Desvío en %'},\n",
    "        title=f'Comparativa de {nombre_seleccionado} contra OMIP',\n",
    "        \n",
    "    )   \n",
    "    graf_comp.update_layout(\n",
    "        bargap=.5,\n",
    "        legend={'title':''}\n",
    "        \n",
    "    )\n",
    "    graf_comp.update_traces(\n",
    "        width=.2,\n",
    "        textangle=0,\n",
    "        \n",
    "        #texttemplate='%{text:.2f}',  # Formato de los valores (2 decimales)\n",
    "        textfont=dict(\n",
    "            family='Arial, sans-serif',  # Tipo de fuente\n",
    "            #size=16,  # Tamaño de la fuente\n",
    "            color='black',  # Color de la fuente\n",
    "            #weight='bold'  # Negrita\n",
    "        )\n",
    "    )\n",
    "\n",
    "    return graf_comp"
   ]
  }
 ],
 "metadata": {
  "kernelspec": {
   "display_name": "base",
   "language": "python",
   "name": "python3"
  },
  "language_info": {
   "codemirror_mode": {
    "name": "ipython",
    "version": 3
   },
   "file_extension": ".py",
   "mimetype": "text/x-python",
   "name": "python",
   "nbconvert_exporter": "python",
   "pygments_lexer": "ipython3",
   "version": "3.11.4"
  }
 },
 "nbformat": 4,
 "nbformat_minor": 2
}
